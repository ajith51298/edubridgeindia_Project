{
 "cells": [
  {
   "cell_type": "markdown",
   "metadata": {
    "id": "i1h7LAlVa7Gu"
   },
   "source": []
  },
  {
   "cell_type": "code",
   "execution_count": 43,
   "metadata": {
    "executionInfo": {
     "elapsed": 1014,
     "status": "ok",
     "timestamp": 1616659716308,
     "user": {
      "displayName": "siddhardh selvam",
      "photoUrl": "https://lh3.googleusercontent.com/a-/AOh14GjoM0sS4e0V1WNfGk0nyAMbNW7I_MhcjAMYIpSPEQ=s64",
      "userId": "13966379820454708749"
     },
     "user_tz": -330
    },
    "id": "d2o7jdWHXE6K"
   },
   "outputs": [],
   "source": [
    "# Importing the Libraries\n",
    "import numpy as np\n",
    "import pandas as pd\n",
    "import matplotlib.pyplot as plt\n",
    "import seaborn as sns\n",
    "from sklearn.model_selection import train_test_split\n",
    "from sklearn.ensemble import RandomForestRegressor\n",
    "from sklearn import metrics\n"
   ]
  },
  {
   "cell_type": "markdown",
   "metadata": {
    "id": "Y1jC584Mbd4Q"
   },
   "source": [
    "# Data Collection and Processing"
   ]
  },
  {
   "cell_type": "code",
   "execution_count": 44,
   "metadata": {
    "executionInfo": {
     "elapsed": 1012,
     "status": "ok",
     "timestamp": 1616659817691,
     "user": {
      "displayName": "siddhardh selvam",
      "photoUrl": "https://lh3.googleusercontent.com/a-/AOh14GjoM0sS4e0V1WNfGk0nyAMbNW7I_MhcjAMYIpSPEQ=s64",
      "userId": "13966379820454708749"
     },
     "user_tz": -330
    },
    "id": "BQtjCTzHbZQO"
   },
   "outputs": [],
   "source": [
    "# loading the csv data to a Pandas DataFrame\n",
    "gold_data = pd.read_csv(\"https://raw.githubusercontent.com/sanrvs265/edubridgeindia_Project/main/gld_price_data.csv\")"
   ]
  },
  {
   "cell_type": "code",
   "execution_count": 46,
   "metadata": {
    "colab": {
     "base_uri": "https://localhost:8080/",
     "height": 198
    },
    "executionInfo": {
     "elapsed": 865,
     "status": "ok",
     "timestamp": 1616659850697,
     "user": {
      "displayName": "siddhardh selvam",
      "photoUrl": "https://lh3.googleusercontent.com/a-/AOh14GjoM0sS4e0V1WNfGk0nyAMbNW7I_MhcjAMYIpSPEQ=s64",
      "userId": "13966379820454708749"
     },
     "user_tz": -330
    },
    "id": "S5xeeB9LbyA9",
    "outputId": "a80fe09f-64e8-449d-b8d2-01a2b8919b82"
   },
   "outputs": [
    {
     "data": {
      "text/html": [
       "<div>\n",
       "<style scoped>\n",
       "    .dataframe tbody tr th:only-of-type {\n",
       "        vertical-align: middle;\n",
       "    }\n",
       "\n",
       "    .dataframe tbody tr th {\n",
       "        vertical-align: top;\n",
       "    }\n",
       "\n",
       "    .dataframe thead th {\n",
       "        text-align: right;\n",
       "    }\n",
       "</style>\n",
       "<table border=\"1\" class=\"dataframe\">\n",
       "  <thead>\n",
       "    <tr style=\"text-align: right;\">\n",
       "      <th></th>\n",
       "      <th>Date</th>\n",
       "      <th>SPX</th>\n",
       "      <th>GLD</th>\n",
       "      <th>USO</th>\n",
       "      <th>SLV</th>\n",
       "      <th>EUR/USD</th>\n",
       "    </tr>\n",
       "  </thead>\n",
       "  <tbody>\n",
       "    <tr>\n",
       "      <th>0</th>\n",
       "      <td>1/2/2008</td>\n",
       "      <td>1447.160034</td>\n",
       "      <td>84.860001</td>\n",
       "      <td>78.470001</td>\n",
       "      <td>15.180</td>\n",
       "      <td>1.471692</td>\n",
       "    </tr>\n",
       "    <tr>\n",
       "      <th>1</th>\n",
       "      <td>1/3/2008</td>\n",
       "      <td>1447.160034</td>\n",
       "      <td>85.570000</td>\n",
       "      <td>78.370003</td>\n",
       "      <td>15.285</td>\n",
       "      <td>1.474491</td>\n",
       "    </tr>\n",
       "    <tr>\n",
       "      <th>2</th>\n",
       "      <td>1/4/2008</td>\n",
       "      <td>1411.630005</td>\n",
       "      <td>85.129997</td>\n",
       "      <td>77.309998</td>\n",
       "      <td>15.167</td>\n",
       "      <td>1.475492</td>\n",
       "    </tr>\n",
       "    <tr>\n",
       "      <th>3</th>\n",
       "      <td>1/7/2008</td>\n",
       "      <td>1416.180054</td>\n",
       "      <td>84.769997</td>\n",
       "      <td>75.500000</td>\n",
       "      <td>15.053</td>\n",
       "      <td>1.468299</td>\n",
       "    </tr>\n",
       "    <tr>\n",
       "      <th>4</th>\n",
       "      <td>1/8/2008</td>\n",
       "      <td>1390.189941</td>\n",
       "      <td>86.779999</td>\n",
       "      <td>76.059998</td>\n",
       "      <td>15.590</td>\n",
       "      <td>1.557099</td>\n",
       "    </tr>\n",
       "  </tbody>\n",
       "</table>\n",
       "</div>"
      ],
      "text/plain": [
       "       Date          SPX        GLD        USO     SLV   EUR/USD\n",
       "0  1/2/2008  1447.160034  84.860001  78.470001  15.180  1.471692\n",
       "1  1/3/2008  1447.160034  85.570000  78.370003  15.285  1.474491\n",
       "2  1/4/2008  1411.630005  85.129997  77.309998  15.167  1.475492\n",
       "3  1/7/2008  1416.180054  84.769997  75.500000  15.053  1.468299\n",
       "4  1/8/2008  1390.189941  86.779999  76.059998  15.590  1.557099"
      ]
     },
     "execution_count": 46,
     "metadata": {},
     "output_type": "execute_result"
    }
   ],
   "source": [
    "#first 5 rows\n",
    "gold_data.head()"
   ]
  },
  {
   "cell_type": "code",
   "execution_count": 45,
   "metadata": {
    "colab": {
     "base_uri": "https://localhost:8080/",
     "height": 198
    },
    "executionInfo": {
     "elapsed": 872,
     "status": "ok",
     "timestamp": 1616659994935,
     "user": {
      "displayName": "siddhardh selvam",
      "photoUrl": "https://lh3.googleusercontent.com/a-/AOh14GjoM0sS4e0V1WNfGk0nyAMbNW7I_MhcjAMYIpSPEQ=s64",
      "userId": "13966379820454708749"
     },
     "user_tz": -330
    },
    "id": "NrywfHOBb6HD",
    "outputId": "8167fc52-3dc2-4227-ba75-172e7e2c3b12"
   },
   "outputs": [
    {
     "data": {
      "text/html": [
       "<div>\n",
       "<style scoped>\n",
       "    .dataframe tbody tr th:only-of-type {\n",
       "        vertical-align: middle;\n",
       "    }\n",
       "\n",
       "    .dataframe tbody tr th {\n",
       "        vertical-align: top;\n",
       "    }\n",
       "\n",
       "    .dataframe thead th {\n",
       "        text-align: right;\n",
       "    }\n",
       "</style>\n",
       "<table border=\"1\" class=\"dataframe\">\n",
       "  <thead>\n",
       "    <tr style=\"text-align: right;\">\n",
       "      <th></th>\n",
       "      <th>Date</th>\n",
       "      <th>SPX</th>\n",
       "      <th>GLD</th>\n",
       "      <th>USO</th>\n",
       "      <th>SLV</th>\n",
       "      <th>EUR/USD</th>\n",
       "    </tr>\n",
       "  </thead>\n",
       "  <tbody>\n",
       "    <tr>\n",
       "      <th>2285</th>\n",
       "      <td>5/8/2018</td>\n",
       "      <td>2671.919922</td>\n",
       "      <td>124.589996</td>\n",
       "      <td>14.0600</td>\n",
       "      <td>15.5100</td>\n",
       "      <td>1.186789</td>\n",
       "    </tr>\n",
       "    <tr>\n",
       "      <th>2286</th>\n",
       "      <td>5/9/2018</td>\n",
       "      <td>2697.790039</td>\n",
       "      <td>124.330002</td>\n",
       "      <td>14.3700</td>\n",
       "      <td>15.5300</td>\n",
       "      <td>1.184722</td>\n",
       "    </tr>\n",
       "    <tr>\n",
       "      <th>2287</th>\n",
       "      <td>5/10/2018</td>\n",
       "      <td>2723.070068</td>\n",
       "      <td>125.180000</td>\n",
       "      <td>14.4100</td>\n",
       "      <td>15.7400</td>\n",
       "      <td>1.191753</td>\n",
       "    </tr>\n",
       "    <tr>\n",
       "      <th>2288</th>\n",
       "      <td>5/14/2018</td>\n",
       "      <td>2730.129883</td>\n",
       "      <td>124.489998</td>\n",
       "      <td>14.3800</td>\n",
       "      <td>15.5600</td>\n",
       "      <td>1.193118</td>\n",
       "    </tr>\n",
       "    <tr>\n",
       "      <th>2289</th>\n",
       "      <td>5/16/2018</td>\n",
       "      <td>2725.780029</td>\n",
       "      <td>122.543800</td>\n",
       "      <td>14.4058</td>\n",
       "      <td>15.4542</td>\n",
       "      <td>1.182033</td>\n",
       "    </tr>\n",
       "  </tbody>\n",
       "</table>\n",
       "</div>"
      ],
      "text/plain": [
       "           Date          SPX         GLD      USO      SLV   EUR/USD\n",
       "2285   5/8/2018  2671.919922  124.589996  14.0600  15.5100  1.186789\n",
       "2286   5/9/2018  2697.790039  124.330002  14.3700  15.5300  1.184722\n",
       "2287  5/10/2018  2723.070068  125.180000  14.4100  15.7400  1.191753\n",
       "2288  5/14/2018  2730.129883  124.489998  14.3800  15.5600  1.193118\n",
       "2289  5/16/2018  2725.780029  122.543800  14.4058  15.4542  1.182033"
      ]
     },
     "execution_count": 45,
     "metadata": {},
     "output_type": "execute_result"
    }
   ],
   "source": [
    "# last 5 rows\n",
    "gold_data.tail()"
   ]
  },
  {
   "cell_type": "code",
   "execution_count": 11,
   "metadata": {
    "colab": {
     "base_uri": "https://localhost:8080/"
    },
    "executionInfo": {
     "elapsed": 1268,
     "status": "ok",
     "timestamp": 1616660036298,
     "user": {
      "displayName": "siddhardh selvam",
      "photoUrl": "https://lh3.googleusercontent.com/a-/AOh14GjoM0sS4e0V1WNfGk0nyAMbNW7I_MhcjAMYIpSPEQ=s64",
      "userId": "13966379820454708749"
     },
     "user_tz": -330
    },
    "id": "vgnDjvpocdUp",
    "outputId": "13fb521f-29a7-401a-fac6-c3a12ff3668b"
   },
   "outputs": [
    {
     "data": {
      "text/plain": [
       "(2290, 6)"
      ]
     },
     "execution_count": 11,
     "metadata": {},
     "output_type": "execute_result"
    }
   ],
   "source": [
    "# find number of rows and columns\n",
    "gold_data.shape"
   ]
  },
  {
   "cell_type": "code",
   "execution_count": 47,
   "metadata": {
    "colab": {
     "base_uri": "https://localhost:8080/"
    },
    "executionInfo": {
     "elapsed": 1493,
     "status": "ok",
     "timestamp": 1616660071707,
     "user": {
      "displayName": "siddhardh selvam",
      "photoUrl": "https://lh3.googleusercontent.com/a-/AOh14GjoM0sS4e0V1WNfGk0nyAMbNW7I_MhcjAMYIpSPEQ=s64",
      "userId": "13966379820454708749"
     },
     "user_tz": -330
    },
    "id": "9SEXC4AWcnDu",
    "outputId": "6c660677-2c14-4caa-afef-085e130f3e2d"
   },
   "outputs": [
    {
     "name": "stdout",
     "output_type": "stream",
     "text": [
      "<class 'pandas.core.frame.DataFrame'>\n",
      "RangeIndex: 2290 entries, 0 to 2289\n",
      "Data columns (total 6 columns):\n",
      " #   Column   Non-Null Count  Dtype  \n",
      "---  ------   --------------  -----  \n",
      " 0   Date     2290 non-null   object \n",
      " 1   SPX      2290 non-null   float64\n",
      " 2   GLD      2290 non-null   float64\n",
      " 3   USO      2290 non-null   float64\n",
      " 4   SLV      2290 non-null   float64\n",
      " 5   EUR/USD  2290 non-null   float64\n",
      "dtypes: float64(5), object(1)\n",
      "memory usage: 107.5+ KB\n"
     ]
    }
   ],
   "source": [
    "# getting some basic informations about the gold data\n",
    "gold_data.info()"
   ]
  },
  {
   "cell_type": "code",
   "execution_count": 48,
   "metadata": {
    "colab": {
     "base_uri": "https://localhost:8080/"
    },
    "executionInfo": {
     "elapsed": 847,
     "status": "ok",
     "timestamp": 1616660119780,
     "user": {
      "displayName": "siddhardh selvam",
      "photoUrl": "https://lh3.googleusercontent.com/a-/AOh14GjoM0sS4e0V1WNfGk0nyAMbNW7I_MhcjAMYIpSPEQ=s64",
      "userId": "13966379820454708749"
     },
     "user_tz": -330
    },
    "id": "tjmFVXi2cv4Q",
    "outputId": "2fa51b37-0af3-4ce0-963a-f48fba8e0a84"
   },
   "outputs": [
    {
     "data": {
      "text/plain": [
       "Date       0\n",
       "SPX        0\n",
       "GLD        0\n",
       "USO        0\n",
       "SLV        0\n",
       "EUR/USD    0\n",
       "dtype: int64"
      ]
     },
     "execution_count": 48,
     "metadata": {},
     "output_type": "execute_result"
    }
   ],
   "source": [
    "# checking the number of missing values\n",
    "gold_data.isnull().sum()"
   ]
  },
  {
   "cell_type": "code",
   "execution_count": 49,
   "metadata": {
    "colab": {
     "base_uri": "https://localhost:8080/",
     "height": 288
    },
    "executionInfo": {
     "elapsed": 840,
     "status": "ok",
     "timestamp": 1616660182972,
     "user": {
      "displayName": "siddhardh selvam",
      "photoUrl": "https://lh3.googleusercontent.com/a-/AOh14GjoM0sS4e0V1WNfGk0nyAMbNW7I_MhcjAMYIpSPEQ=s64",
      "userId": "13966379820454708749"
     },
     "user_tz": -330
    },
    "id": "9IcOnRfhc7zv",
    "outputId": "fc921d3f-e836-4042-ed2c-e77ad4216e47"
   },
   "outputs": [
    {
     "data": {
      "text/html": [
       "<div>\n",
       "<style scoped>\n",
       "    .dataframe tbody tr th:only-of-type {\n",
       "        vertical-align: middle;\n",
       "    }\n",
       "\n",
       "    .dataframe tbody tr th {\n",
       "        vertical-align: top;\n",
       "    }\n",
       "\n",
       "    .dataframe thead th {\n",
       "        text-align: right;\n",
       "    }\n",
       "</style>\n",
       "<table border=\"1\" class=\"dataframe\">\n",
       "  <thead>\n",
       "    <tr style=\"text-align: right;\">\n",
       "      <th></th>\n",
       "      <th>SPX</th>\n",
       "      <th>GLD</th>\n",
       "      <th>USO</th>\n",
       "      <th>SLV</th>\n",
       "      <th>EUR/USD</th>\n",
       "    </tr>\n",
       "  </thead>\n",
       "  <tbody>\n",
       "    <tr>\n",
       "      <th>count</th>\n",
       "      <td>2290.000000</td>\n",
       "      <td>2290.000000</td>\n",
       "      <td>2290.000000</td>\n",
       "      <td>2290.000000</td>\n",
       "      <td>2290.000000</td>\n",
       "    </tr>\n",
       "    <tr>\n",
       "      <th>mean</th>\n",
       "      <td>1654.315776</td>\n",
       "      <td>122.732875</td>\n",
       "      <td>31.842221</td>\n",
       "      <td>20.084997</td>\n",
       "      <td>1.283653</td>\n",
       "    </tr>\n",
       "    <tr>\n",
       "      <th>std</th>\n",
       "      <td>519.111540</td>\n",
       "      <td>23.283346</td>\n",
       "      <td>19.523517</td>\n",
       "      <td>7.092566</td>\n",
       "      <td>0.131547</td>\n",
       "    </tr>\n",
       "    <tr>\n",
       "      <th>min</th>\n",
       "      <td>676.530029</td>\n",
       "      <td>70.000000</td>\n",
       "      <td>7.960000</td>\n",
       "      <td>8.850000</td>\n",
       "      <td>1.039047</td>\n",
       "    </tr>\n",
       "    <tr>\n",
       "      <th>25%</th>\n",
       "      <td>1239.874969</td>\n",
       "      <td>109.725000</td>\n",
       "      <td>14.380000</td>\n",
       "      <td>15.570000</td>\n",
       "      <td>1.171313</td>\n",
       "    </tr>\n",
       "    <tr>\n",
       "      <th>50%</th>\n",
       "      <td>1551.434998</td>\n",
       "      <td>120.580002</td>\n",
       "      <td>33.869999</td>\n",
       "      <td>17.268500</td>\n",
       "      <td>1.303297</td>\n",
       "    </tr>\n",
       "    <tr>\n",
       "      <th>75%</th>\n",
       "      <td>2073.010070</td>\n",
       "      <td>132.840004</td>\n",
       "      <td>37.827501</td>\n",
       "      <td>22.882500</td>\n",
       "      <td>1.369971</td>\n",
       "    </tr>\n",
       "    <tr>\n",
       "      <th>max</th>\n",
       "      <td>2872.870117</td>\n",
       "      <td>184.589996</td>\n",
       "      <td>117.480003</td>\n",
       "      <td>47.259998</td>\n",
       "      <td>1.598798</td>\n",
       "    </tr>\n",
       "  </tbody>\n",
       "</table>\n",
       "</div>"
      ],
      "text/plain": [
       "               SPX          GLD          USO          SLV      EUR/USD\n",
       "count  2290.000000  2290.000000  2290.000000  2290.000000  2290.000000\n",
       "mean   1654.315776   122.732875    31.842221    20.084997     1.283653\n",
       "std     519.111540    23.283346    19.523517     7.092566     0.131547\n",
       "min     676.530029    70.000000     7.960000     8.850000     1.039047\n",
       "25%    1239.874969   109.725000    14.380000    15.570000     1.171313\n",
       "50%    1551.434998   120.580002    33.869999    17.268500     1.303297\n",
       "75%    2073.010070   132.840004    37.827501    22.882500     1.369971\n",
       "max    2872.870117   184.589996   117.480003    47.259998     1.598798"
      ]
     },
     "execution_count": 49,
     "metadata": {},
     "output_type": "execute_result"
    }
   ],
   "source": [
    "# getting the statistical measures of the data\n",
    "gold_data.describe()"
   ]
  },
  {
   "cell_type": "markdown",
   "metadata": {},
   "source": [
    "# Correlation:"
   ]
  },
  {
   "cell_type": "markdown",
   "metadata": {
    "id": "f9SUQ8hodW4b"
   },
   "source": [
    "\n",
    "1. Positive Correlation\n",
    "2. Negative Correlation"
   ]
  },
  {
   "cell_type": "code",
   "execution_count": 15,
   "metadata": {
    "executionInfo": {
     "elapsed": 1184,
     "status": "ok",
     "timestamp": 1616660392893,
     "user": {
      "displayName": "siddhardh selvam",
      "photoUrl": "https://lh3.googleusercontent.com/a-/AOh14GjoM0sS4e0V1WNfGk0nyAMbNW7I_MhcjAMYIpSPEQ=s64",
      "userId": "13966379820454708749"
     },
     "user_tz": -330
    },
    "id": "C3xgji81dJUW"
   },
   "outputs": [],
   "source": [
    "correlation = gold_data.corr()"
   ]
  },
  {
   "cell_type": "code",
   "execution_count": 17,
   "metadata": {
    "colab": {
     "base_uri": "https://localhost:8080/",
     "height": 488
    },
    "executionInfo": {
     "elapsed": 1092,
     "status": "ok",
     "timestamp": 1616660555637,
     "user": {
      "displayName": "siddhardh selvam",
      "photoUrl": "https://lh3.googleusercontent.com/a-/AOh14GjoM0sS4e0V1WNfGk0nyAMbNW7I_MhcjAMYIpSPEQ=s64",
      "userId": "13966379820454708749"
     },
     "user_tz": -330
    },
    "id": "oOqb9j0Ad-Zx",
    "outputId": "629a76ce-d91f-459d-c07e-3ab88af34fcf"
   },
   "outputs": [
    {
     "data": {
      "text/plain": [
       "<AxesSubplot:>"
      ]
     },
     "execution_count": 17,
     "metadata": {},
     "output_type": "execute_result"
    },
    {
     "data": {
      "image/png": "[encoded data removed]",
      "text/plain": [
       "<Figure size 576x576 with 2 Axes>"
      ]
     },
     "metadata": {
      "needs_background": "light"
     },
     "output_type": "display_data"
    }
   ],
   "source": [
    "# constructing a heatmap to understand the correlatiom\n",
    "plt.figure(figsize = (8,8))\n",
    "sns.heatmap(correlation, cbar=True, square=True, fmt='.2f',annot=True, annot_kws={'size':10}, cmap='BrBG')"
   ]
  },
  {
   "cell_type": "code",
   "execution_count": 18,
   "metadata": {
    "colab": {
     "base_uri": "https://localhost:8080/"
    },
    "executionInfo": {
     "elapsed": 861,
     "status": "ok",
     "timestamp": 1616660694675,
     "user": {
      "displayName": "siddhardh selvam",
      "photoUrl": "https://lh3.googleusercontent.com/a-/AOh14GjoM0sS4e0V1WNfGk0nyAMbNW7I_MhcjAMYIpSPEQ=s64",
      "userId": "13966379820454708749"
     },
     "user_tz": -330
    },
    "id": "qtQ_icjRemI4",
    "outputId": "cec00681-c356-42e4-e4c6-557e6c2b8ccd"
   },
   "outputs": [
    {
     "name": "stdout",
     "output_type": "stream",
     "text": [
      "SPX        0.049345\n",
      "GLD        1.000000\n",
      "USO       -0.186360\n",
      "SLV        0.866632\n",
      "EUR/USD   -0.024375\n",
      "Name: GLD, dtype: float64\n"
     ]
    }
   ],
   "source": [
    "# correlation values of GLD\n",
    "print(correlation['GLD'])"
   ]
  },
  {
   "cell_type": "code",
   "execution_count": 19,
   "metadata": {
    "colab": {
     "base_uri": "https://localhost:8080/",
     "height": 357
    },
    "executionInfo": {
     "elapsed": 982,
     "status": "ok",
     "timestamp": 1616660754624,
     "user": {
      "displayName": "siddhardh selvam",
      "photoUrl": "https://lh3.googleusercontent.com/a-/AOh14GjoM0sS4e0V1WNfGk0nyAMbNW7I_MhcjAMYIpSPEQ=s64",
      "userId": "13966379820454708749"
     },
     "user_tz": -330
    },
    "id": "TMr-xVEwfIKg",
    "outputId": "20e55a70-f442-4821-d6a2-3c3bc9e01226"
   },
   "outputs": [
    {
     "name": "stderr",
     "output_type": "stream",
     "text": [
      "C:\\Users\\santhosh\\anaconda3\\lib\\site-packages\\seaborn\\distributions.py:2619: FutureWarning: `distplot` is a deprecated function and will be removed in a future version. Please adapt your code to use either `displot` (a figure-level function with similar flexibility) or `histplot` (an axes-level function for histograms).\n",
      "  warnings.warn(msg, FutureWarning)\n"
     ]
    },
    {
     "data": {
      "text/plain": [
       "<AxesSubplot:xlabel='GLD', ylabel='Density'>"
      ]
     },
     "execution_count": 19,
     "metadata": {},
     "output_type": "execute_result"
    },
    {
     "data": {
      "image/png": "[encoded data removed]",
      "text/plain": [
       "<Figure size 432x288 with 1 Axes>"
      ]
     },
     "metadata": {
      "needs_background": "light"
     },
     "output_type": "display_data"
    }
   ],
   "source": [
    "# checking the distribution of the GLD Price\n",
    "sns.distplot(gold_data['GLD'],color='blue')"
   ]
  },
  {
   "cell_type": "markdown",
   "metadata": {
    "id": "4bdwLbPEfqWI"
   },
   "source": [
    "Splitting the Features and Target"
   ]
  },
  {
   "cell_type": "code",
   "execution_count": 20,
   "metadata": {
    "executionInfo": {
     "elapsed": 868,
     "status": "ok",
     "timestamp": 1616660910279,
     "user": {
      "displayName": "siddhardh selvam",
      "photoUrl": "https://lh3.googleusercontent.com/a-/AOh14GjoM0sS4e0V1WNfGk0nyAMbNW7I_MhcjAMYIpSPEQ=s64",
      "userId": "13966379820454708749"
     },
     "user_tz": -330
    },
    "id": "SJNxCR0vfWxe"
   },
   "outputs": [],
   "source": [
    "X = gold_data.drop(['Date','GLD'],axis=1)\n",
    "Y = gold_data['GLD']"
   ]
  },
  {
   "cell_type": "code",
   "execution_count": 21,
   "metadata": {
    "colab": {
     "base_uri": "https://localhost:8080/"
    },
    "executionInfo": {
     "elapsed": 1472,
     "status": "ok",
     "timestamp": 1616660915372,
     "user": {
      "displayName": "siddhardh selvam",
      "photoUrl": "https://lh3.googleusercontent.com/a-/AOh14GjoM0sS4e0V1WNfGk0nyAMbNW7I_MhcjAMYIpSPEQ=s64",
      "userId": "13966379820454708749"
     },
     "user_tz": -330
    },
    "id": "qW9UvLSNf8zH",
    "outputId": "c61137e6-7ab4-491f-c626-d4bda00c48ce"
   },
   "outputs": [
    {
     "name": "stdout",
     "output_type": "stream",
     "text": [
      "              SPX        USO      SLV   EUR/USD\n",
      "0     1447.160034  78.470001  15.1800  1.471692\n",
      "1     1447.160034  78.370003  15.2850  1.474491\n",
      "2     1411.630005  77.309998  15.1670  1.475492\n",
      "3     1416.180054  75.500000  15.0530  1.468299\n",
      "4     1390.189941  76.059998  15.5900  1.557099\n",
      "...           ...        ...      ...       ...\n",
      "2285  2671.919922  14.060000  15.5100  1.186789\n",
      "2286  2697.790039  14.370000  15.5300  1.184722\n",
      "2287  2723.070068  14.410000  15.7400  1.191753\n",
      "2288  2730.129883  14.380000  15.5600  1.193118\n",
      "2289  2725.780029  14.405800  15.4542  1.182033\n",
      "\n",
      "[2290 rows x 4 columns]\n"
     ]
    }
   ],
   "source": [
    "print(X)"
   ]
  },
  {
   "cell_type": "code",
   "execution_count": 22,
   "metadata": {
    "colab": {
     "base_uri": "https://localhost:8080/"
    },
    "executionInfo": {
     "elapsed": 701,
     "status": "ok",
     "timestamp": 1616660929403,
     "user": {
      "displayName": "siddhardh selvam",
      "photoUrl": "https://lh3.googleusercontent.com/a-/AOh14GjoM0sS4e0V1WNfGk0nyAMbNW7I_MhcjAMYIpSPEQ=s64",
      "userId": "13966379820454708749"
     },
     "user_tz": -330
    },
    "id": "lKUe3C-qf9y8",
    "outputId": "cfcf051d-0ec2-4cd5-c504-ceb22b63b5c9"
   },
   "outputs": [
    {
     "name": "stdout",
     "output_type": "stream",
     "text": [
      "0        84.860001\n",
      "1        85.570000\n",
      "2        85.129997\n",
      "3        84.769997\n",
      "4        86.779999\n",
      "           ...    \n",
      "2285    124.589996\n",
      "2286    124.330002\n",
      "2287    125.180000\n",
      "2288    124.489998\n",
      "2289    122.543800\n",
      "Name: GLD, Length: 2290, dtype: float64\n"
     ]
    }
   ],
   "source": [
    "print(Y)"
   ]
  },
  {
   "cell_type": "markdown",
   "metadata": {
    "id": "nv8UohBVgE1Z"
   },
   "source": [
    "Splitting into Training data and Test Data"
   ]
  },
  {
   "cell_type": "code",
   "execution_count": 23,
   "metadata": {
    "executionInfo": {
     "elapsed": 866,
     "status": "ok",
     "timestamp": 1616661089031,
     "user": {
      "displayName": "siddhardh selvam",
      "photoUrl": "https://lh3.googleusercontent.com/a-/AOh14GjoM0sS4e0V1WNfGk0nyAMbNW7I_MhcjAMYIpSPEQ=s64",
      "userId": "13966379820454708749"
     },
     "user_tz": -330
    },
    "id": "KkrUByFugBUn"
   },
   "outputs": [],
   "source": [
    "X_train, X_test, Y_train, Y_test = train_test_split(X, Y, test_size = 0.2, random_state=2)"
   ]
  },
  {
   "cell_type": "markdown",
   "metadata": {
    "id": "1vrCHktWgqfi"
   },
   "source": [
    "Model Training:\n",
    "Random Forest Regressor"
   ]
  },
  {
   "cell_type": "code",
   "execution_count": 24,
   "metadata": {
    "executionInfo": {
     "elapsed": 864,
     "status": "ok",
     "timestamp": 1616661237544,
     "user": {
      "displayName": "siddhardh selvam",
      "photoUrl": "https://lh3.googleusercontent.com/a-/AOh14GjoM0sS4e0V1WNfGk0nyAMbNW7I_MhcjAMYIpSPEQ=s64",
      "userId": "13966379820454708749"
     },
     "user_tz": -330
    },
    "id": "N17qRKKGgoaZ"
   },
   "outputs": [],
   "source": [
    "regressor = RandomForestRegressor(n_estimators=100)"
   ]
  },
  {
   "cell_type": "code",
   "execution_count": 25,
   "metadata": {
    "colab": {
     "base_uri": "https://localhost:8080/"
    },
    "executionInfo": {
     "elapsed": 1337,
     "status": "ok",
     "timestamp": 1616661281434,
     "user": {
      "displayName": "siddhardh selvam",
      "photoUrl": "https://lh3.googleusercontent.com/a-/AOh14GjoM0sS4e0V1WNfGk0nyAMbNW7I_MhcjAMYIpSPEQ=s64",
      "userId": "13966379820454708749"
     },
     "user_tz": -330
    },
    "id": "DP2he4-PhMso",
    "outputId": "62c30f51-7e7c-425e-b7f2-47e38bf38513"
   },
   "outputs": [
    {
     "data": {
      "text/plain": [
       "RandomForestRegressor()"
      ]
     },
     "execution_count": 25,
     "metadata": {},
     "output_type": "execute_result"
    }
   ],
   "source": [
    "# training the model\n",
    "regressor.fit(X_train,Y_train)"
   ]
  },
  {
   "cell_type": "markdown",
   "metadata": {
    "id": "SHNFVsr4hbG2"
   },
   "source": [
    "Model Evaluation"
   ]
  },
  {
   "cell_type": "code",
   "execution_count": 26,
   "metadata": {
    "executionInfo": {
     "elapsed": 997,
     "status": "ok",
     "timestamp": 1616661346392,
     "user": {
      "displayName": "siddhardh selvam",
      "photoUrl": "https://lh3.googleusercontent.com/a-/AOh14GjoM0sS4e0V1WNfGk0nyAMbNW7I_MhcjAMYIpSPEQ=s64",
      "userId": "13966379820454708749"
     },
     "user_tz": -330
    },
    "id": "uOLpKKD_hXSl"
   },
   "outputs": [],
   "source": [
    "# prediction on Test Data\n",
    "test_data_prediction = regressor.predict(X_test)"
   ]
  },
  {
   "cell_type": "code",
   "execution_count": 27,
   "metadata": {
    "colab": {
     "base_uri": "https://localhost:8080/"
    },
    "executionInfo": {
     "elapsed": 961,
     "status": "ok",
     "timestamp": 1616661359383,
     "user": {
      "displayName": "siddhardh selvam",
      "photoUrl": "https://lh3.googleusercontent.com/a-/AOh14GjoM0sS4e0V1WNfGk0nyAMbNW7I_MhcjAMYIpSPEQ=s64",
      "userId": "13966379820454708749"
     },
     "user_tz": -330
    },
    "id": "WSIqrLNdhnOr",
    "outputId": "72344c44-af1a-491f-bfc9-8046b55efee2"
   },
   "outputs": [
    {
     "name": "stdout",
     "output_type": "stream",
     "text": [
      "[168.66289953  82.02029989 115.77010031 127.58030063 120.60880147\n",
      " 154.71339828 150.3135983  126.11620014 117.45039849 126.17940048\n",
      " 116.66520124 172.34490093 141.38049782 168.06899814 115.20920008\n",
      " 118.06550063 140.02750368 169.90290047 159.34980221 158.04799888\n",
      " 155.20930046 125.18329989 176.33589976 157.42940278 125.19700022\n",
      "  93.69059949  77.88409974 120.69360023 119.09279978 167.45690002\n",
      "  88.32170074 125.03760012  91.24900063 117.78150014 121.02889913\n",
      " 137.4738007  115.59330106 115.01890102 146.37749983 107.42400066\n",
      " 104.56260242  87.23059788 126.45900071 118.34029996 154.30079881\n",
      " 119.53489981 108.40240011 107.94119855  93.0979003  127.12989769\n",
      "  74.7660004  113.67399932 121.54450003 111.38579939 118.853799\n",
      " 120.69149899 158.71540078 167.62390121 147.16689694  85.64179851\n",
      "  94.07020035  86.78699881  90.61630027 118.8321009  126.37920094\n",
      " 127.52549992 168.16119907 122.24209953 117.50149888  98.72590064\n",
      " 167.88410116 143.07469886 132.44370253 121.04900232 120.74139969\n",
      " 119.73220035 114.27580144 118.43550057 107.13560108 127.84950034\n",
      " 113.99049964 107.05730005 116.6205009  119.62009863  88.83980066\n",
      "  88.22269887 146.08470199 127.25359936 113.52520015 110.10809838\n",
      " 108.15319929  77.12889903 168.71640119 113.90529884 121.57649901\n",
      " 128.07250192 154.85719852  91.82079974 136.67220117 158.6095028\n",
      " 125.00610048 125.52960024 130.751102   114.63440103 119.71759989\n",
      "  92.08409973 110.07609916 165.58309847 157.71129869 114.10859927\n",
      " 106.66390128  79.90839948 113.26080037 125.80320053 107.10389945\n",
      " 119.51990112 155.68410237 159.91829949 120.19629988 134.9847027\n",
      " 101.69219994 117.45829808 119.06970056 112.90050073 102.80729885\n",
      " 160.18179778  98.69540035 148.24039931 125.60210126 169.84239904\n",
      " 126.06639813 127.37909722 127.33810191 113.84559916 112.85150038\n",
      " 123.78659912 102.17299881  89.23009999 124.3634999  101.58879958\n",
      " 107.16789908 113.89560057 117.40610078  99.34549943 121.6588006\n",
      " 163.35819832  87.48359872 106.80819972 117.16650085 127.66030089\n",
      " 124.22030094  80.87079908 120.14200083 158.16879778  88.03179963\n",
      " 110.0539997  118.80539921 172.97289923 103.04119902 105.30400056\n",
      " 122.64660039 158.69239745  87.5662985   93.08760024 112.96050026\n",
      " 177.57159962 114.53949979 119.14310047  95.0321008  125.63229997\n",
      " 166.00620142 114.70600022 116.64460141  88.29149889 148.86780136\n",
      " 120.20729932  89.59340018 112.17810012 117.20370056 118.8162013\n",
      "  88.27869978  94.25499986 117.04619998 118.61700165 120.41120024\n",
      " 126.9245982  121.88899954 149.48840013 164.65540099 118.55099955\n",
      " 120.4516006  150.27699985 118.34249894 172.9862989  104.89349943\n",
      " 104.95350167 150.29350174 113.6469003  124.91040085 146.92709916\n",
      " 119.59070113 115.15330009 112.26970003 113.48220229 140.57560126\n",
      " 117.94689775 102.87320041 115.82490088 104.00340186  99.14800078\n",
      " 117.29260059  90.66900018  91.59320053 153.63989862 102.8465997\n",
      " 154.53220057 114.39210156 138.95370135  90.16369824 115.45249955\n",
      " 114.89899954 122.64040047 121.68680042 165.44280115  92.93209957\n",
      " 135.47760129 121.3082993  120.79840084 104.78190024 141.79680302\n",
      " 121.53279917 116.69540049 113.16530115 127.28699763 122.69969952\n",
      " 125.78479941 121.21500015  86.8818991  132.46290198 143.63360201\n",
      "  92.71609926 158.15019964 158.71100289 126.23079907 165.19519957\n",
      " 108.84709966 110.18670075 103.80549845  94.19130063 128.03830294\n",
      " 107.39150026 162.4308993  121.74360065 132.12250028 130.81080188\n",
      " 160.95139977  90.07339817 176.03510263 127.7617002  127.03599824\n",
      "  86.37159933 124.5136988  149.74469721  89.66260031 107.09749971\n",
      " 108.95159988  83.83159891 136.71490045 154.8335022  138.63690416\n",
      "  74.3996003  152.0861006  126.23900029 126.7736001  127.46339903\n",
      " 108.52829893 156.13079997 114.44370078 116.87740148 124.97839937\n",
      " 153.94300149 121.31300002 156.36289913  93.06560049 125.46890157\n",
      " 125.42660068  87.99400035  92.15409906 126.45209918 127.91600298\n",
      " 113.10110009 117.78829734 120.94350042 127.50429811 120.16230051\n",
      " 136.4931      93.9963995  119.68750075 113.09810111  94.35679962\n",
      " 108.98039975  87.57539928 108.97829952  89.79349948  92.52060011\n",
      " 131.53440296 162.27889963  89.34050003 119.66170107 133.42160178\n",
      " 123.93280011 128.3797023  101.96059833  88.91809904 132.62400077\n",
      " 119.82660013 108.31180021 169.12020084 115.19420061  86.61139902\n",
      " 118.72210067  91.14089954 161.7827002  116.60470016 121.54770012\n",
      " 160.32309775 120.07739938 112.79919921 108.5924986  126.76630037\n",
      "  76.49329991 102.99299969 127.88780288 121.76889926  92.62649996\n",
      " 132.20860103 118.2039011  115.92579944 154.56310263 159.75880112\n",
      " 110.24309912 151.35729756 119.28650116 160.65990037 118.59220009\n",
      " 158.59649911 115.12839947 116.53580004 148.66929888 114.5260006\n",
      " 125.55039875 166.70969928 117.8392998  125.04859927 153.24380356\n",
      " 153.47300275 132.10710117 114.8117001  121.07620222 125.37360061\n",
      "  89.7434004  122.97569991 154.61080186 111.71100037 106.69460012\n",
      " 161.7901008  118.52059952 165.65170042 133.88270083 114.85969959\n",
      " 152.89519803 168.74210006 114.84880006 113.9560011  159.05189887\n",
      "  85.64729826 127.11800091 127.92130049 128.70590001 124.23000052\n",
      " 123.79770061  90.60230046 153.06010006  97.02429959 137.81629993\n",
      "  89.15539958 107.0662999  114.96170032 112.90590096 124.30659949\n",
      "  91.3856987  125.45430145 162.31639826 119.90979896 165.26300091\n",
      " 126.99649791 112.46130008 127.57849895  95.20589931  90.86769996\n",
      " 103.14709922 120.88800035  83.18189961 126.37500004 160.56240428\n",
      " 117.24320086 118.47039964 120.22269995 122.65519958 120.08360121\n",
      " 121.34010018 118.2061003  107.05799969 147.89839924 126.13849828\n",
      " 115.6338009   74.14590001 127.75790098 154.65480059 121.97989973\n",
      " 125.56020078  88.81610016 103.09039835 124.52780048 120.23750021\n",
      "  73.53680062 151.6535999  121.45590031 104.66620022  86.65429765\n",
      " 115.15769898 172.23279818 119.64470059 160.5726976  113.22279928\n",
      " 121.22850016 118.59600138  95.94779965 118.73539999 125.84360018\n",
      " 118.43719958  96.17180054 154.05150182 122.05070003 147.50789973\n",
      " 159.58350195 113.38719992 122.59989933 150.01959859 127.23420014\n",
      " 165.98130069 135.59320013 119.98749987 166.95279871 108.34259952\n",
      " 121.7604985  138.10670087 105.89239915]\n"
     ]
    }
   ],
   "source": [
    "print(test_data_prediction)"
   ]
  },
  {
   "cell_type": "code",
   "execution_count": 28,
   "metadata": {
    "colab": {
     "base_uri": "https://localhost:8080/"
    },
    "executionInfo": {
     "elapsed": 1087,
     "status": "ok",
     "timestamp": 1616661467908,
     "user": {
      "displayName": "siddhardh selvam",
      "photoUrl": "https://lh3.googleusercontent.com/a-/AOh14GjoM0sS4e0V1WNfGk0nyAMbNW7I_MhcjAMYIpSPEQ=s64",
      "userId": "13966379820454708749"
     },
     "user_tz": -330
    },
    "id": "fu7A1hhMhqa9",
    "outputId": "3609de12-2ab2-46fd-c137-7e3777ddd8be"
   },
   "outputs": [
    {
     "name": "stdout",
     "output_type": "stream",
     "text": [
      "R squared error :  0.9898712884251553\n"
     ]
    }
   ],
   "source": [
    "# R squared error\n",
    "error_score = metrics.r2_score(Y_test, test_data_prediction)\n",
    "print(\"R squared error : \", error_score)"
   ]
  },
  {
   "cell_type": "markdown",
   "metadata": {
    "id": "f1fiqOMkiZNL"
   },
   "source": [
    "Compare the Actual Values and Predicted Values in a Plot"
   ]
  },
  {
   "cell_type": "code",
   "execution_count": 29,
   "metadata": {
    "executionInfo": {
     "elapsed": 1167,
     "status": "ok",
     "timestamp": 1616661595041,
     "user": {
      "displayName": "siddhardh selvam",
      "photoUrl": "https://lh3.googleusercontent.com/a-/AOh14GjoM0sS4e0V1WNfGk0nyAMbNW7I_MhcjAMYIpSPEQ=s64",
      "userId": "13966379820454708749"
     },
     "user_tz": -330
    },
    "id": "QoC4g_tBiE4A"
   },
   "outputs": [],
   "source": [
    "Y_test = list(Y_test)"
   ]
  },
  {
   "cell_type": "code",
   "execution_count": 42,
   "metadata": {
    "colab": {
     "base_uri": "https://localhost:8080/",
     "height": 295
    },
    "executionInfo": {
     "elapsed": 1342,
     "status": "ok",
     "timestamp": 1616661765843,
     "user": {
      "displayName": "siddhardh selvam",
      "photoUrl": "https://lh3.googleusercontent.com/a-/AOh14GjoM0sS4e0V1WNfGk0nyAMbNW7I_MhcjAMYIpSPEQ=s64",
      "userId": "13966379820454708749"
     },
     "user_tz": -330
    },
    "id": "sMSVMVtFijxo",
    "outputId": "34404933-1a9f-4e34-93f2-790c9665cad7"
   },
   "outputs": [
    {
     "data": {
      "image/png": "[encoded data removed]",
      "text/plain": [
       "<Figure size 720x576 with 1 Axes>"
      ]
     },
     "metadata": {
      "needs_background": "light"
     },
     "output_type": "display_data"
    }
   ],
   "source": [
    "plt.plot(Y_test, color='red', label = 'Actual Value')\n",
    "plt.plot(test_data_prediction, color='green', label='Predicted Value')\n",
    "plt.title('Actual_Price vs Predicted_Price')\n",
    "plt.xlabel('Number_of_values')\n",
    "plt.ylabel('Gold_Price')\n",
    "plt.rcParams[\"figure.figsize\"]=(8,8)\n",
    "plt.legend()\n",
    "plt.show()"
   ]
  },
  {
   "cell_type": "code",
   "execution_count": null,
   "metadata": {},
   "outputs": [],
   "source": []
  }
 ],
 "metadata": {
  "colab": {
   "authorship_tag": "ABX9TyO3zJBaSZUUf8H7O1f/8NbJ",
   "name": "Project 6. Gold Price Prediction.ipynb",
   "provenance": []
  },
  "kernelspec": {
   "display_name": "Python 3 (ipykernel)",
   "language": "python",
   "name": "python3"
  },
  "language_info": {
   "codemirror_mode": {
    "name": "ipython",
    "version": 3
   },
   "file_extension": ".py",
   "mimetype": "text/x-python",
   "name": "python",
   "nbconvert_exporter": "python",
   "pygments_lexer": "ipython3",
   "version": "3.9.12"
  }
 },
 "nbformat": 4,
 "nbformat_minor": 1
}
